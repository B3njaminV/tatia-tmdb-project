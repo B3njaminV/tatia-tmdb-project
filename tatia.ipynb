{
 "cells": [
  {
   "cell_type": "code",
   "execution_count": 5,
   "id": "initial_id",
   "metadata": {
    "collapsed": true,
    "ExecuteTime": {
     "end_time": "2024-01-08T23:52:56.311529200Z",
     "start_time": "2024-01-08T23:49:55.366150400Z"
    }
   },
   "outputs": [
    {
     "name": "stderr",
     "output_type": "stream",
     "text": [
      "[nltk_data] Downloading package punkt to\n",
      "[nltk_data]     C:\\Users\\Benjamin\\AppData\\Roaming\\nltk_data...\n",
      "[nltk_data]   Package punkt is already up-to-date!\n",
      "[nltk_data] Downloading package wordnet to\n",
      "[nltk_data]     C:\\Users\\Benjamin\\AppData\\Roaming\\nltk_data...\n",
      "[nltk_data]   Package wordnet is already up-to-date!\n"
     ]
    },
    {
     "name": "stdout",
     "output_type": "stream",
     "text": [
      "                                            Description  \\\n",
      "3827  [craig, and, smokey, are, two, guy, in, los, a...   \n",
      "491   [set, in, 79, a.d., ,, pompeii, tell, the, epi...   \n",
      "3748  [two, woman, ,, nic, and, jules, ,, brought, a...   \n",
      "3742  [there, 's, a, deadly, zombie, epidemic, threa...   \n",
      "287   [with, the, help, of, a, german, bounty, hunte...   \n",
      "...                                                 ...   \n",
      "4798  [el, mariachi, just, want, to, play, his, guit...   \n",
      "4007  [100, pound, overweight, ,, loaded, up, on, st...   \n",
      "4579  [king, arthur, ,, accompanied, by, his, squire...   \n",
      "1770  [financial, tv, host, lee, gate, and, his, pro...   \n",
      "1469  [a, store, clerk, and, an, ice, cream, truck, ...   \n",
      "\n",
      "                                         Generated Type  \n",
      "3827                     [{\"id\": 35, \"name\": \"Comedy\"}]  \n",
      "491                       [{\"id\": 18, \"name\": \"Drama\"}]  \n",
      "3748                      [{\"id\": 18, \"name\": \"Drama\"}]  \n",
      "3742  [{\"id\": 35, \"name\": \"Comedy\"}, {\"id\": 10749, \"...  \n",
      "287                       [{\"id\": 18, \"name\": \"Drama\"}]  \n",
      "...                                                 ...  \n",
      "4798  [{\"id\": 18, \"name\": \"Drama\"}, {\"id\": 35, \"name...  \n",
      "4007                     [{\"id\": 35, \"name\": \"Comedy\"}]  \n",
      "4579                     [{\"id\": 35, \"name\": \"Comedy\"}]  \n",
      "1770                     [{\"id\": 35, \"name\": \"Comedy\"}]  \n",
      "1469  [{\"id\": 878, \"name\": \"Science Fiction\"}, {\"id\"...  \n",
      "\n",
      "[960 rows x 2 columns]\n"
     ]
    }
   ],
   "source": [
    "from gensim.models import Word2Vec\n",
    "import pandas as pd\n",
    "import numpy as np\n",
    "import nltk\n",
    "from nltk.tokenize import word_tokenize\n",
    "from nltk.stem import WordNetLemmatizer\n",
    "from sklearn.model_selection import train_test_split\n",
    "from sklearn.ensemble import RandomForestClassifier\n",
    "\n",
    "# Charger le fichier CSV dans un DataFrame\n",
    "data = pd.read_csv('data.csv')\n",
    "\n",
    "# Sort les colonnes titres, descriptions, genres\n",
    "sorted_data = data[['title', 'overview', 'genres']]\n",
    "\n",
    "# Filtrage des données (impossible de deviner un genre si description < 10 caractères)\n",
    "filtered_data = sorted_data[sorted_data['overview'].str.len() > 10]\n",
    "\n",
    "# Tokenisation et lemmatisation avec NLTK\n",
    "lemmatizer = WordNetLemmatizer()\n",
    "\n",
    "def preprocess_text(text):\n",
    "    tokens = word_tokenize(text)\n",
    "    lemmatized = [lemmatizer.lemmatize(token.lower()) for token in tokens]\n",
    "    return lemmatized\n",
    "\n",
    "# Appliquer la pré-traitement à la colonne 'overview'\n",
    "filtered_data['processed_overview'] = filtered_data['overview'].apply(preprocess_text)"
   ]
  }
 ],
 "metadata": {
  "kernelspec": {
   "display_name": "Python 3",
   "language": "python",
   "name": "python3"
  },
  "language_info": {
   "codemirror_mode": {
    "name": "ipython",
    "version": 2
   },
   "file_extension": ".py",
   "mimetype": "text/x-python",
   "name": "python",
   "nbconvert_exporter": "python",
   "pygments_lexer": "ipython2",
   "version": "2.7.6"
  }
 },
 "nbformat": 4,
 "nbformat_minor": 5
}
