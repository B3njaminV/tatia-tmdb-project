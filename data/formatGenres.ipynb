{
 "cells": [
  {
   "cell_type": "code",
   "execution_count": 2,
   "id": "5fbbcf3d",
   "metadata": {},
   "outputs": [],
   "source": [
    "import pandas as pd\n",
    "import ast  # Module pour évaluer une chaîne JSON en tant que structure de données Python\n",
    "\n",
    "# Charger le fichier CSV\n",
    "chemin_du_fichier_csv = \"data_small.csv\"\n",
    "df = pd.read_csv(chemin_du_fichier_csv)\n",
    "\n",
    "# Fonction pour extraire le premier nom de genre\n",
    "def extraire_premier_genre(genre_str):\n",
    "    genres_list = ast.literal_eval(genre_str)  # Convertir la chaîne JSON en liste de dictionnaires\n",
    "    \n",
    "    if genres_list:\n",
    "        return \",\".join([genre['name'] for genre in genres_list])\n",
    "    else:\n",
    "        return None\n",
    "\n",
    "# Appliquer la fonction à la colonne \"genres\"\n",
    "df[\"genres_str\"] = df[\"genres\"].apply(extraire_premier_genre)\n",
    "\n",
    "# Sauvegarder le DataFrame modifié dans un nouveau fichier CSV\n",
    "nouveau_chemin_du_fichier_csv = \"nouveau_fichier.csv\"\n",
    "df.to_csv(nouveau_chemin_du_fichier_csv, index=False)"
   ]
  }
 ],
 "metadata": {
  "kernelspec": {
   "display_name": "Python 3",
   "language": "python",
   "name": "python3"
  },
  "language_info": {
   "codemirror_mode": {
    "name": "ipython",
    "version": 3
   },
   "file_extension": ".py",
   "mimetype": "text/x-python",
   "name": "python",
   "nbconvert_exporter": "python",
   "pygments_lexer": "ipython3",
   "version": "3.10.4"
  }
 },
 "nbformat": 4,
 "nbformat_minor": 5
}
